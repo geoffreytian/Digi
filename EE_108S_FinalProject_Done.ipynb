{
 "cells": [
  {
   "cell_type": "code",
   "execution_count": 23,
   "metadata": {
    "collapsed": true
   },
   "outputs": [],
   "source": [
    "import praw\n",
    "import pyowm\n",
    "import datetime\n",
    "import speech_recognition as sr\n",
    "from gtts import gTTS\n",
    "import os\n",
    "import random\n",
    "import sys\n",
    "import time"
   ]
  },
  {
   "cell_type": "code",
   "execution_count": 24,
   "metadata": {
    "collapsed": true
   },
   "outputs": [],
   "source": [
    "# obtain audio from the microphone\n",
    "def get_audio():\n",
    "    r = sr.Recognizer()\n",
    "    with sr.Microphone() as source:\n",
    "        play_audio(\"How can I help you?\", \"en\")\n",
    "        audio = r.listen(source)\n",
    "\n",
    "        try:\n",
    "            return r.recognize_google(audio)\n",
    "\n",
    "        except:\n",
    "            pass"
   ]
  },
  {
   "cell_type": "code",
   "execution_count": 25,
   "metadata": {
    "collapsed": true
   },
   "outputs": [],
   "source": [
    "def get_joke(num_jokes):\n",
    "    \"\"\"\n",
    "    Gets jokes from reddit.\n",
    "    :param num_jokes: This is how many times the user has asked for a joke.\n",
    "    :return: A string, ready to be read out, that tells a joke.\n",
    "    \"\"\"\n",
    "    reddit = praw.Reddit(client_id = 'QL3zf4QfPOaOQw', client_secret = 'aZJEE0uGrzzssCE_2Q5DS3MXy5w', user_agent = 'Digi by Matthew and Geoff')\n",
    "    # BTW, you need a praw.ini file for this. Otherwise this won't work. I'll send you the praw.ini file some time.\n",
    "    # put it here:\n",
    "    #In the directory specified by $HOME/.config if the HOME environment variable is defined (Linux and Mac OS systems).\n",
    "    # For more information: https://praw.readthedocs.io/en/latest/getting_started/configuration/prawini.html#praw-ini\n",
    "    list_of_jokes = []\n",
    "    for submission in reddit.subreddit('shortcleanfunny').top(time_filter='all', limit=(num_jokes+1)):\n",
    "        joke_i = (submission.title, submission.selftext)\n",
    "        list_of_jokes.append(joke_i)\n",
    "    list_of_jokes[num_jokes][1].replace('\\n', '')\n",
    "    result = f'Here is a joke. Here is how it goes. {list_of_jokes[num_jokes][0]} {list_of_jokes[num_jokes][1]}'\n",
    "    return result\n"
   ]
  },
  {
   "cell_type": "markdown",
   "metadata": {},
   "source": [
    "get_joke gets a joke from reddit, which is a messaging board divided into subreddits which are focused on a specific topic. get_joke uses PRAW (https://praw.readthedocs.io/en/latest/) to access shortcleanfunny and get a joke."
   ]
  },
  {
   "cell_type": "code",
   "execution_count": 26,
   "metadata": {
    "collapsed": true
   },
   "outputs": [],
   "source": [
    "def get_weather():\n",
    "    \"\"\"\n",
    "    Gets the current weather of ATX.\n",
    "    :return: A string, ready to be read out, that gives information about the weather.\n",
    "    \"\"\"\n",
    "    owm = pyowm.OWM('a07c45f49457239d1504a9fe6fa19b3d')\n",
    "    observation = owm.weather_at_id(4671654) #THIS IS AUSTIN, TX'S ID\n",
    "    w = observation.get_weather()\n",
    "    w.get_humidity()\n",
    "    w.get_temperature('fahrenheit')\n",
    "    temp = ''\n",
    "    temp_max = ''\n",
    "    temp_min = ''\n",
    "    for k, v in w.get_temperature('fahrenheit').items():\n",
    "        if k == 'temp':\n",
    "            temp = v\n",
    "        elif k == 'temp_max':\n",
    "            temp_max = v\n",
    "        elif k == 'temp_min':\n",
    "            temp_min = v\n",
    "    result = f'The temperature right now is: {int(temp)} degrees Fahrenheit. It is projected to be between {int(temp_min)} degrees and {int(temp_max)} degrees. '\n",
    "    return result\n"
   ]
  },
  {
   "cell_type": "markdown",
   "metadata": {},
   "source": [
    "get_weather uses OpenWeatherMap to get information about the current temperature in Austin, Texas. It uses the ID for Austin, TX, which was found using the docs example, which is in the next cell. It uses an API to get information about the weather, as shown here: https://github.com/csparpa/pyowm. "
   ]
  },
  {
   "cell_type": "code",
   "execution_count": 27,
   "metadata": {},
   "outputs": [
    {
     "data": {
      "text/plain": [
       "[(4099974, 'Austin', 'US'),\n",
       " (4254010, 'Austin', 'US'),\n",
       " (4671654, 'Austin', 'US'),\n",
       " (5016884, 'Austin', 'US'),\n",
       " (5888406, 'Austin', 'CA')]"
      ]
     },
     "execution_count": 27,
     "metadata": {},
     "output_type": "execute_result"
    }
   ],
   "source": [
    "owm = pyowm.OWM('a07c45f49457239d1504a9fe6fa19b3d')\n",
    "reg = owm.city_id_registry()\n",
    "reg.ids_for('Austin')        \n",
    "# [(4099974, 'Austin', 'US'),\n",
    "#  (4254010, 'Austin', 'US'),\n",
    "#  (4671654, 'Austin', 'US'),\n",
    "#  (5016884, 'Austin', 'US'),\n",
    "#  (5888406, 'Austin', 'CA')]\n"
   ]
  },
  {
   "cell_type": "markdown",
   "metadata": {},
   "source": [
    "Then, I tried a few weather IDs until I found one which had weather similar to Austin."
   ]
  },
  {
   "cell_type": "code",
   "execution_count": 28,
   "metadata": {
    "collapsed": true
   },
   "outputs": [],
   "source": [
    "def get_time():\n",
    "    \"\"\"\n",
    "    Gets the current time using time module.\n",
    "    :return: A string, ready to be read out, that gives information about the time.\n",
    "    \"\"\"\n",
    "    currentDT = datetime.datetime.now()\n",
    "    date = currentDT.strftime(\"%a, %b %d, %Y\")\n",
    "    time = currentDT.strftime(\"%I %M %p\")\n",
    "    result = f'It is {time} on {date}.'\n",
    "    return result"
   ]
  },
  {
   "cell_type": "code",
   "execution_count": 29,
   "metadata": {
    "collapsed": true
   },
   "outputs": [],
   "source": [
    "def play_audio(string, language):\n",
    "    \"\"\"\n",
    "    saves the string as an mp3 audio file using google text to speech and then uses command line to play the file.\n",
    "    :param string: string to be read\n",
    "    :param language: language to be output\n",
    "    :return: speech\n",
    "    \"\"\"\n",
    "    str = string\n",
    "    myobj = gTTS(text=str, lang=language, slow=False)\n",
    "    myobj.save(\"welcome.mp3\")\n",
    "\n",
    "    if sys.platform.startswith('darwin'):\n",
    "        os.system(\"mpg321 welcome.mp3\")\n",
    "\n",
    "    elif sys.platform.startswith('win32'):\n",
    "        os.system(\"welcome.mp3\")"
   ]
  },
  {
   "cell_type": "code",
   "execution_count": 30,
   "metadata": {
    "collapsed": true
   },
   "outputs": [],
   "source": [
    "def main():\n",
    "    language = 'en'\n",
    "    num_jokes = random.randint(0,100)\n",
    "    while True:\n",
    "        command = get_audio()\n",
    "        if command == None:\n",
    "            time.sleep(1)\n",
    "        elif \"joke\" in command:\n",
    "            str =  get_joke(num_jokes)\n",
    "            play_audio(str, language)\n",
    "            if num_jokes < 100:\n",
    "                num_jokes = num_jokes + 1\n",
    "            else:\n",
    "                num_jokes = 0\n",
    "\n",
    "        elif \"weather\" in command:\n",
    "            play_audio(get_weather(), language)\n",
    "\n",
    "        elif \"time\" in command:\n",
    "            play_audio(get_time(), language)\n",
    "\n",
    "        elif \"goodbye\" in command or \"bye\" in command:\n",
    "            play_audio('goodbye', language)\n",
    "            break\n",
    "        else:\n",
    "            time.sleep(1)\n",
    "            \n"
   ]
  },
  {
   "cell_type": "markdown",
   "metadata": {},
   "source": [
    "This is a fairly simple \"while True\" loop which runs constantly until the user gives audio input. If no input is given, it sleeps for 1 second using the time module."
   ]
  },
  {
   "cell_type": "code",
   "execution_count": 31,
   "metadata": {
    "collapsed": true
   },
   "outputs": [],
   "source": [
    "main()"
   ]
  }
 ],
 "metadata": {
  "kernelspec": {
   "display_name": "Python 3",
   "language": "python",
   "name": "python3"
  },
  "language_info": {
   "codemirror_mode": {
    "name": "ipython",
    "version": 3
   },
   "file_extension": ".py",
   "mimetype": "text/x-python",
   "name": "python",
   "nbconvert_exporter": "python",
   "pygments_lexer": "ipython3",
   "version": "3.6.3"
  }
 },
 "nbformat": 4,
 "nbformat_minor": 2
}
