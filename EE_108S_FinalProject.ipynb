{
 "cells": [
  {
   "cell_type": "code",
   "execution_count": 1,
   "metadata": {
    "collapsed": true
   },
   "outputs": [],
   "source": [
    "import praw\n",
    "import pyowm\n",
    "import datetime\n",
    "import speech_recognition as sr\n",
    "from gtts import gTTS\n",
    "import os\n",
    "import random"
   ]
  },
  {
   "cell_type": "code",
   "execution_count": 2,
   "metadata": {
    "collapsed": true
   },
   "outputs": [],
   "source": [
    "# obtain audio from the microphone\n",
    "def get_audio():\n",
    "    r = sr.Recognizer()\n",
    "    with sr.Microphone() as source:\n",
    "        play_audio(\"How can I help you?\", \"en\")\n",
    "        audio = r.listen(source)\n",
    "\n",
    "        try:\n",
    "            return r.recognize_google(audio)\n",
    "\n",
    "        except:\n",
    "            pass"
   ]
  },
  {
   "cell_type": "code",
   "execution_count": 3,
   "metadata": {
    "collapsed": true
   },
   "outputs": [],
   "source": [
    "def get_joke(num_jokes):\n",
    "    \"\"\"\n",
    "    Gets jokes from reddit.\n",
    "    :param num_jokes: This is how many times the user has asked for a joke.\n",
    "    :return: A string, ready to be read out, that tells a joke.\n",
    "    \"\"\"\n",
    "    reddit = praw.Reddit(client_id = 'QL3zf4QfPOaOQw', client_secret = 'aZJEE0uGrzzssCE_2Q5DS3MXy5w', user_agent = 'Digi by Matthew and Geoff')\n",
    "    # BTW, you need a praw.ini file for this. Otherwise this won't work. I'll send you the praw.ini file some time.\n",
    "    # put it here:\n",
    "    #In the directory specified by $HOME/.config if the HOME environment variable is defined (Linux and Mac OS systems).\n",
    "    # For more information: https://praw.readthedocs.io/en/latest/getting_started/configuration/prawini.html#praw-ini\n",
    "    list_of_jokes = []\n",
    "    for submission in reddit.subreddit('jokes').top(time_filter='month', limit=(num_jokes+1)):\n",
    "        joke_i = (submission.title, submission.selftext)\n",
    "        list_of_jokes.append(joke_i)\n",
    "\n",
    "    list_of_jokes[num_jokes][1].replace('\\n', '')\n",
    "    result = f'Here is a joke. Here is how it goes. {list_of_jokes[num_jokes][0]} {list_of_jokes[num_jokes][1]}'\n",
    "    return result\n"
   ]
  },
  {
   "cell_type": "code",
   "execution_count": 4,
   "metadata": {
    "collapsed": true
   },
   "outputs": [],
   "source": [
    "def get_weather():\n",
    "    \"\"\"\n",
    "    Gets the current weather of ATX.\n",
    "    :return: A string, ready to be read out, that gives information about the weather.\n",
    "    \"\"\"\n",
    "    owm = pyowm.OWM('a07c45f49457239d1504a9fe6fa19b3d')\n",
    "    observation = owm.weather_at_id(4671654) #THIS IS AUSTIN, TX'S ID\n",
    "    w = observation.get_weather()\n",
    "    w.get_humidity()\n",
    "    w.get_temperature('fahrenheit')\n",
    "    temp = ''\n",
    "    temp_max = ''\n",
    "    temp_min = ''\n",
    "    for k, v in w.get_temperature('fahrenheit').items():\n",
    "        if k == 'temp':\n",
    "            temp = v\n",
    "        elif k == 'temp_max':\n",
    "            temp_max = v\n",
    "        elif k == 'temp_min':\n",
    "            temp_min = v\n",
    "    result = f'The temperature right now is: {int(temp)} degrees Fahrenheit. It is projected to be between {int(temp_min)} degrees and {int(temp_max)} degrees. '\n",
    "    return result\n"
   ]
  },
  {
   "cell_type": "code",
   "execution_count": 5,
   "metadata": {
    "collapsed": true
   },
   "outputs": [],
   "source": [
    "def get_time():\n",
    "    \"\"\"\n",
    "    Gets the current time using time module.\n",
    "    :return: A string, ready to be read out, that gives information about the time.\n",
    "    \"\"\"\n",
    "    currentDT = datetime.datetime.now()\n",
    "    date = currentDT.strftime(\"%a, %b %d, %Y\")\n",
    "    time = currentDT.strftime(\"%I %M %p\")\n",
    "    result = f'It is {time} on {date}.'\n",
    "    return result"
   ]
  },
  {
   "cell_type": "code",
   "execution_count": 6,
   "metadata": {
    "collapsed": true
   },
   "outputs": [],
   "source": [
    "def play_audio(string, language):\n",
    "    \"\"\"\n",
    "    saves the string as an mp3 audio file using google text to speech and then uses command line to play the file.\n",
    "    :param string: string to be read\n",
    "    :param language: language to be output\n",
    "    :return: speech\n",
    "    \"\"\"\n",
    "    str = string\n",
    "    myobj = gTTS(text=str, lang=language, slow=False)\n",
    "    myobj.save(\"welcome.mp3\")\n",
    "    try:\n",
    "        os.system(\"mpg321 welcome.mp3\")\n",
    "    except:\n",
    "        os.system(\"welcome.mp3\")"
   ]
  },
  {
   "cell_type": "code",
   "execution_count": 1,
   "metadata": {
    "collapsed": true
   },
   "outputs": [],
   "source": [
    "def main():\n",
    "    language = 'en'\n",
    "    num_jokes = random.randint(0,100)\n",
    "    print(\"Beginning\")\n",
    "    \n",
    "    while True:\n",
    "        command = get_audio()\n",
    "        if \"joke\" in command:\n",
    "            str =  get_joke(num_jokes)\n",
    "            play_audio(str, language)\n",
    "            if num_jokes < 100:\n",
    "                num_jokes = num_jokes + 1\n",
    "            else:\n",
    "                num_jokes = 0\n",
    "\n",
    "        if \"weather\" in command:\n",
    "            play_audio(get_weather(), language)\n",
    "\n",
    "        if \"time\" in command:\n",
    "            play_audio(get_time(), language)\n",
    "\n",
    "        if command == \"goodbye\":\n",
    "            play_audio('goodbye', language)\n",
    "            break\n"
   ]
  },
  {
   "cell_type": "code",
   "execution_count": 18,
   "metadata": {},
   "outputs": [
    {
     "ename": "TypeError",
     "evalue": "argument of type 'NoneType' is not iterable",
     "output_type": "error",
     "traceback": [
      "\u001b[1;31m---------------------------------------------------------------------------\u001b[0m",
      "\u001b[1;31mTypeError\u001b[0m                                 Traceback (most recent call last)",
      "\u001b[1;32m<ipython-input-18-58ca95c5b364>\u001b[0m in \u001b[0;36m<module>\u001b[1;34m()\u001b[0m\n\u001b[1;32m----> 1\u001b[1;33m \u001b[0mmain\u001b[0m\u001b[1;33m(\u001b[0m\u001b[1;33m)\u001b[0m\u001b[1;33m\u001b[0m\u001b[0m\n\u001b[0m",
      "\u001b[1;32m<ipython-input-7-77871b42c5f0>\u001b[0m in \u001b[0;36mmain\u001b[1;34m()\u001b[0m\n\u001b[0;32m      4\u001b[0m     \u001b[1;32mwhile\u001b[0m \u001b[1;32mTrue\u001b[0m\u001b[1;33m:\u001b[0m\u001b[1;33m\u001b[0m\u001b[0m\n\u001b[0;32m      5\u001b[0m         \u001b[0mcommand\u001b[0m \u001b[1;33m=\u001b[0m \u001b[0mget_audio\u001b[0m\u001b[1;33m(\u001b[0m\u001b[1;33m)\u001b[0m\u001b[1;33m\u001b[0m\u001b[0m\n\u001b[1;32m----> 6\u001b[1;33m         \u001b[1;32mif\u001b[0m \u001b[1;34m\"joke\"\u001b[0m \u001b[1;32min\u001b[0m \u001b[0mcommand\u001b[0m\u001b[1;33m:\u001b[0m\u001b[1;33m\u001b[0m\u001b[0m\n\u001b[0m\u001b[0;32m      7\u001b[0m             \u001b[0mstr\u001b[0m \u001b[1;33m=\u001b[0m  \u001b[0mget_joke\u001b[0m\u001b[1;33m(\u001b[0m\u001b[0mnum_jokes\u001b[0m\u001b[1;33m)\u001b[0m\u001b[1;33m\u001b[0m\u001b[0m\n\u001b[0;32m      8\u001b[0m             \u001b[0mplay_audio\u001b[0m\u001b[1;33m(\u001b[0m\u001b[0mstr\u001b[0m\u001b[1;33m,\u001b[0m \u001b[0mlanguage\u001b[0m\u001b[1;33m)\u001b[0m\u001b[1;33m\u001b[0m\u001b[0m\n",
      "\u001b[1;31mTypeError\u001b[0m: argument of type 'NoneType' is not iterable"
     ]
    }
   ],
   "source": [
    "main()"
   ]
  }
 ],
 "metadata": {
  "kernelspec": {
   "display_name": "Python 3",
   "language": "python",
   "name": "python3"
  },
  "language_info": {
   "codemirror_mode": {
    "name": "ipython",
    "version": 3
   },
   "file_extension": ".py",
   "mimetype": "text/x-python",
   "name": "python",
   "nbconvert_exporter": "python",
   "pygments_lexer": "ipython3",
   "version": "3.6.3"
  }
 },
 "nbformat": 4,
 "nbformat_minor": 2
}
